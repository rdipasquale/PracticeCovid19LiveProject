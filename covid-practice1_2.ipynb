{
 "cells": [
  {
   "cell_type": "markdown",
   "metadata": {},
   "source": [
    "1.2:\n",
    "    1) Use a custom image data generator which takes in DICOM images.\n",
    "        a) Load the CSV file you saved in Part 1 in a pandas DataFrame\n",
    "        b) Split n the DataFrame into train, test DataFrame using the function train_test_split(test_size=0.2) from the sklearn.model_selection library\n",
    "        c) add train/ test/ validation data augmentation parameters in a dictionary form or use the Keras preprocessing function.\n",
    "        d) Set training/ test/ validation parameters such as BATCH_SIZE, CLASS_MODE, COLOR_MODE, TARGET_SIZE, and EPOCHS.\n",
    "        e) Create a data generator class for reading in DICOM images or use the class provided. With this custom datagenerator class create a train and validation generator.\n",
    "    2) Build a VGG 16 model from scratch and train using X-ray images\n",
    "        a) Build the VGG16 model from scratch using correct layers and activations.\n",
    "        b) Compile the model and check model summary.\n",
    "        c) Using the model.fit_generator function of Keras, train the model using the train_generator and validation_generator you built.\n",
    "        d) Plot the training loss. accuracy, and validation loss. and accuracy values vs. epochs.\n",
    "        e) Load a set of 9 random images from the test_generator, run model.predict on them. and visualize the prediction scores along with the test images"
   ]
  },
  {
   "cell_type": "markdown",
   "metadata": {},
   "source": [
    "(1)(a)"
   ]
  },
  {
   "cell_type": "code",
   "execution_count": 1,
   "metadata": {},
   "outputs": [
    {
     "data": {
      "text/html": [
       "<div>\n",
       "<style scoped>\n",
       "    .dataframe tbody tr th:only-of-type {\n",
       "        vertical-align: middle;\n",
       "    }\n",
       "\n",
       "    .dataframe tbody tr th {\n",
       "        vertical-align: top;\n",
       "    }\n",
       "\n",
       "    .dataframe thead th {\n",
       "        text-align: right;\n",
       "    }\n",
       "</style>\n",
       "<table border=\"1\" class=\"dataframe\">\n",
       "  <thead>\n",
       "    <tr style=\"text-align: right;\">\n",
       "      <th></th>\n",
       "      <th>image_path</th>\n",
       "      <th>target</th>\n",
       "    </tr>\n",
       "  </thead>\n",
       "  <tbody>\n",
       "    <tr>\n",
       "      <th>0</th>\n",
       "      <td>/media/ricardo/hd1/Ricardo/uca/COVID-19_Radiog...</td>\n",
       "      <td>1</td>\n",
       "    </tr>\n",
       "    <tr>\n",
       "      <th>1</th>\n",
       "      <td>/media/ricardo/hd1/Ricardo/uca/COVID-19_Radiog...</td>\n",
       "      <td>1</td>\n",
       "    </tr>\n",
       "    <tr>\n",
       "      <th>2</th>\n",
       "      <td>/media/ricardo/hd1/Ricardo/uca/COVID-19_Radiog...</td>\n",
       "      <td>1</td>\n",
       "    </tr>\n",
       "    <tr>\n",
       "      <th>3</th>\n",
       "      <td>/media/ricardo/hd1/Ricardo/uca/COVID-19_Radiog...</td>\n",
       "      <td>1</td>\n",
       "    </tr>\n",
       "    <tr>\n",
       "      <th>4</th>\n",
       "      <td>/media/ricardo/hd1/Ricardo/uca/COVID-19_Radiog...</td>\n",
       "      <td>1</td>\n",
       "    </tr>\n",
       "  </tbody>\n",
       "</table>\n",
       "</div>"
      ],
      "text/plain": [
       "                                          image_path target\n",
       "0  /media/ricardo/hd1/Ricardo/uca/COVID-19_Radiog...      1\n",
       "1  /media/ricardo/hd1/Ricardo/uca/COVID-19_Radiog...      1\n",
       "2  /media/ricardo/hd1/Ricardo/uca/COVID-19_Radiog...      1\n",
       "3  /media/ricardo/hd1/Ricardo/uca/COVID-19_Radiog...      1\n",
       "4  /media/ricardo/hd1/Ricardo/uca/COVID-19_Radiog...      1"
      ]
     },
     "execution_count": 1,
     "metadata": {},
     "output_type": "execute_result"
    }
   ],
   "source": [
    "import pandas as pd\n",
    "\n",
    "csv_file = '/media/ricardo/hd1/Ricardo/uca/COVID-19_Radiography_Dataset/DICOM/dicomReduced.csv'\n",
    "\n",
    "df = pd.read_csv(csv_file, dtype=str)\n",
    "df.head()"
   ]
  },
  {
   "cell_type": "markdown",
   "metadata": {},
   "source": [
    "(1)(b)"
   ]
  },
  {
   "cell_type": "code",
   "execution_count": 2,
   "metadata": {},
   "outputs": [],
   "source": [
    "from sklearn.model_selection import train_test_split\n",
    "train, test = train_test_split(df, test_size=0.2)"
   ]
  },
  {
   "cell_type": "markdown",
   "metadata": {},
   "source": [
    "(1)(c)(d)(e) While dealing with how to preprocessing images in Keras with DICOM, Googled \"keras dicom images preprocessing\" to reach https://gist.github.com/ReemRashwan/8c92086d3104d01978a16e05ca93a165 ... When I checked solutions, I get very similar code."
   ]
  },
  {
   "cell_type": "code",
   "execution_count": 3,
   "metadata": {},
   "outputs": [
    {
     "name": "stdout",
     "output_type": "stream",
     "text": [
      "Found 192 validated image filenames belonging to 2 classes.\n",
      "Found 47 validated image filenames belonging to 2 classes.\n"
     ]
    }
   ],
   "source": [
    "import numpy as np\n",
    "import pandas as pd\n",
    "import pydicom\n",
    "import cv2\n",
    "from sklearn.model_selection import train_test_split\n",
    "from tensorflow.keras.preprocessing.image import ImageDataGenerator\n",
    "from keras_preprocessing.image.dataframe_iterator import DataFrameIterator\n",
    "\n",
    "# tested on tf 2.1 \n",
    "\n",
    "class DCMDataFrameIterator(DataFrameIterator):\n",
    "    def __init__(self, *arg, **kwargs):\n",
    "        self.white_list_formats = ('dcm')\n",
    "        super(DCMDataFrameIterator, self).__init__(*arg, **kwargs)\n",
    "        self.dataframe = kwargs['dataframe']\n",
    "        self.x = self.dataframe[kwargs['x_col']]\n",
    "        self.y = self.dataframe[kwargs['y_col']]\n",
    "        self.color_mode = kwargs['color_mode']\n",
    "        self.target_size = kwargs['target_size']\n",
    "\n",
    "    def _get_batches_of_transformed_samples(self, indices_array):\n",
    "        # get batch of images\n",
    "        batch_x = np.array([self.read_dcm_as_array(dcm_path, self.target_size, color_mode=self.color_mode)\n",
    "                            for dcm_path in self.x.iloc[indices_array]])\n",
    "\n",
    "        batch_y = np.array(self.y.iloc[indices_array].astype(np.uint8))  # astype because y was passed as str\n",
    "\n",
    "        # transform images\n",
    "        if self.image_data_generator is not None:\n",
    "            for i, (x, y) in enumerate(zip(batch_x, batch_y)):\n",
    "                transform_params = self.image_data_generator.get_random_transform(x.shape)\n",
    "                batch_x[i] = self.image_data_generator.apply_transform(x, transform_params)\n",
    "              \n",
    "        return batch_x, batch_y\n",
    "\n",
    "    @staticmethod\n",
    "    def read_dcm_as_array(dcm_path, target_size=(256, 256), color_mode='rgb'):\n",
    "        image_array = pydicom.dcmread(dcm_path).pixel_array\n",
    "        image_array = cv2.resize(image_array, target_size, interpolation=cv2.INTER_NEAREST)  #this returns a 2d array\n",
    "        image_array = np.expand_dims(image_array, -1)\n",
    "        if color_mode == 'rgb':\n",
    "            image_array = cv2.cvtColor(image_array, cv2.COLOR_GRAY2RGB)\n",
    "        return image_array\n",
    "    \n",
    "      \n",
    "# read data\n",
    "# Assuming it has two cols:\n",
    "# image_path: path to each image with its extension\n",
    "# target: labels (here it is 0s and 1s) -> binary classification\n",
    "#done!\n",
    "#df = pd.read_csv(\"yourDfPath.csv\", dtype=str)\n",
    "\n",
    "# split for testing\n",
    "# done!\n",
    "#train_df, test_df = train_test_split(df, test_size=0.2)\n",
    "\n",
    "# augmentation parameters\n",
    "# you can use preprocessing_function instead of rescale in all generators\n",
    "# if you are using a pretrained network\n",
    "train_augmentation_parameters = dict(\n",
    "    rescale=1.0/255.0,\n",
    "    rotation_range=10,\n",
    "    zoom_range=0.2,\n",
    "    horizontal_flip=True,\n",
    "    fill_mode='nearest',\n",
    "    brightness_range = [0.8, 1.2],\n",
    "    validation_split = 0.2\n",
    ")\n",
    "\n",
    "valid_augmentation_parameters = dict(\n",
    "    rescale=1.0/255.0,\n",
    "    validation_split = 0.2\n",
    ")\n",
    "\n",
    "test_augmentation_parameters = dict(\n",
    "    rescale=1.0/255.0\n",
    ")\n",
    "\n",
    "# training parameters\n",
    "BATCH_SIZE = 32\n",
    "CLASS_MODE = 'categorical'\n",
    "COLOR_MODE = 'rgb'\n",
    "TARGET_SIZE = (224, 224)\n",
    "EPOCHS = 10\n",
    "SEED = 1337\n",
    "\n",
    "train_consts = {\n",
    "    'seed': SEED,\n",
    "    'batch_size': BATCH_SIZE,\n",
    "    'class_mode': CLASS_MODE,\n",
    "    'color_mode': COLOR_MODE,\n",
    "    'target_size': TARGET_SIZE,  \n",
    "    'subset': 'training'\n",
    "}\n",
    "\n",
    "valid_consts = {\n",
    "    'seed': SEED,\n",
    "    'batch_size': BATCH_SIZE,\n",
    "    'class_mode': CLASS_MODE,\n",
    "    'color_mode': COLOR_MODE,\n",
    "    'target_size': TARGET_SIZE, \n",
    "    'subset': 'validation'\n",
    "}\n",
    "\n",
    "test_consts = {\n",
    "    'batch_size': 1,  # should be 1 in testing\n",
    "    'class_mode': CLASS_MODE,\n",
    "    'color_mode': COLOR_MODE,\n",
    "    'target_size': TARGET_SIZE,  # resize input images\n",
    "    'shuffle': False\n",
    "}\n",
    "\n",
    "# Using the training phase generators \n",
    "train_augmenter = ImageDataGenerator(**train_augmentation_parameters)\n",
    "valid_augmenter = ImageDataGenerator(**valid_augmentation_parameters)\n",
    "\n",
    "\n",
    "train_generator = DCMDataFrameIterator(dataframe=train,\n",
    "                             x_col='image_path',\n",
    "                             y_col='target',\n",
    "                             image_data_generator=train_augmenter,\n",
    "                             **train_consts)\n",
    "\n",
    "valid_generator = DCMDataFrameIterator(dataframe=train,\n",
    "                             x_col='image_path',\n",
    "                             y_col='target',\n",
    "                             image_data_generator=valid_augmenter,\n",
    "                             **valid_consts)\n"
   ]
  },
  {
   "cell_type": "markdown",
   "metadata": {},
   "source": [
    "(1)(f)"
   ]
  },
  {
   "cell_type": "code",
   "execution_count": 4,
   "metadata": {},
   "outputs": [],
   "source": [
    "from tensorflow.keras.models import Sequential\n",
    "model = Sequential()"
   ]
  },
  {
   "cell_type": "markdown",
   "metadata": {},
   "source": [
    "(2)(a) Bibliography in live project helps to understand concepts, but in order to implement from scratch a VGG16 model this tutorial was much more useful: https://towardsdatascience.com/step-by-step-vgg16-implementation-in-keras-for-beginners-a833c686ae6c\n",
    "Comparing with solutions provided is too similar."
   ]
  },
  {
   "cell_type": "code",
   "execution_count": 5,
   "metadata": {},
   "outputs": [],
   "source": [
    "from tensorflow.keras.layers import Dense, Conv2D, MaxPool2D , Flatten\n",
    "import tensorflow as tf\n",
    "\n",
    "model.add(Conv2D(input_shape=(224,224,3),filters=64,kernel_size=(3,3),padding=\"same\", activation=\"relu\"))\n",
    "model.add(Conv2D(input_shape=(224,224,3),filters=64,kernel_size=(3,3),padding=\"same\", activation=\"relu\"))\n",
    "model.add(Conv2D(filters=64,kernel_size=(3,3),padding=\"same\", activation=\"relu\"))\n",
    "model.add(MaxPool2D(pool_size=(2,2),strides=(2,2)))\n",
    "model.add(Conv2D(filters=128, kernel_size=(3,3), padding=\"same\", activation=\"relu\"))\n",
    "model.add(Conv2D(filters=128, kernel_size=(3,3), padding=\"same\", activation=\"relu\"))\n",
    "model.add(MaxPool2D(pool_size=(2,2),strides=(2,2)))\n",
    "model.add(Conv2D(filters=256, kernel_size=(3,3), padding=\"same\", activation=\"relu\"))\n",
    "model.add(Conv2D(filters=256, kernel_size=(3,3), padding=\"same\", activation=\"relu\"))\n",
    "model.add(Conv2D(filters=256, kernel_size=(3,3), padding=\"same\", activation=\"relu\"))\n",
    "model.add(MaxPool2D(pool_size=(2,2),strides=(2,2)))\n",
    "model.add(Conv2D(filters=512, kernel_size=(3,3), padding=\"same\", activation=\"relu\"))\n",
    "model.add(Conv2D(filters=512, kernel_size=(3,3), padding=\"same\", activation=\"relu\"))\n",
    "model.add(Conv2D(filters=512, kernel_size=(3,3), padding=\"same\", activation=\"relu\"))\n",
    "model.add(MaxPool2D(pool_size=(2,2),strides=(2,2)))\n",
    "model.add(Conv2D(filters=512, kernel_size=(3,3), padding=\"same\", activation=\"relu\"))\n",
    "model.add(Conv2D(filters=512, kernel_size=(3,3), padding=\"same\", activation=\"relu\"))\n",
    "model.add(Conv2D(filters=512, kernel_size=(3,3), padding=\"same\", activation=\"relu\"))\n",
    "model.add(MaxPool2D(pool_size=(2,2),strides=(2,2)))\n",
    "model.add(Flatten())\n",
    "model.add(Dense(units=4096,activation=\"relu\"))\n",
    "model.add(Dense(units=4096,activation=\"relu\"))\n",
    "model.add(Dense(units=2, activation=\"sigmoid\"))"
   ]
  },
  {
   "cell_type": "code",
   "execution_count": 6,
   "metadata": {},
   "outputs": [
    {
     "name": "stdout",
     "output_type": "stream",
     "text": [
      "Model: \"sequential\"\n",
      "_________________________________________________________________\n",
      "Layer (type)                 Output Shape              Param #   \n",
      "=================================================================\n",
      "conv2d (Conv2D)              (None, 224, 224, 64)      1792      \n",
      "_________________________________________________________________\n",
      "conv2d_1 (Conv2D)            (None, 224, 224, 64)      36928     \n",
      "_________________________________________________________________\n",
      "conv2d_2 (Conv2D)            (None, 224, 224, 64)      36928     \n",
      "_________________________________________________________________\n",
      "max_pooling2d (MaxPooling2D) (None, 112, 112, 64)      0         \n",
      "_________________________________________________________________\n",
      "conv2d_3 (Conv2D)            (None, 112, 112, 128)     73856     \n",
      "_________________________________________________________________\n",
      "conv2d_4 (Conv2D)            (None, 112, 112, 128)     147584    \n",
      "_________________________________________________________________\n",
      "max_pooling2d_1 (MaxPooling2 (None, 56, 56, 128)       0         \n",
      "_________________________________________________________________\n",
      "conv2d_5 (Conv2D)            (None, 56, 56, 256)       295168    \n",
      "_________________________________________________________________\n",
      "conv2d_6 (Conv2D)            (None, 56, 56, 256)       590080    \n",
      "_________________________________________________________________\n",
      "conv2d_7 (Conv2D)            (None, 56, 56, 256)       590080    \n",
      "_________________________________________________________________\n",
      "max_pooling2d_2 (MaxPooling2 (None, 28, 28, 256)       0         \n",
      "_________________________________________________________________\n",
      "conv2d_8 (Conv2D)            (None, 28, 28, 512)       1180160   \n",
      "_________________________________________________________________\n",
      "conv2d_9 (Conv2D)            (None, 28, 28, 512)       2359808   \n",
      "_________________________________________________________________\n",
      "conv2d_10 (Conv2D)           (None, 28, 28, 512)       2359808   \n",
      "_________________________________________________________________\n",
      "max_pooling2d_3 (MaxPooling2 (None, 14, 14, 512)       0         \n",
      "_________________________________________________________________\n",
      "conv2d_11 (Conv2D)           (None, 14, 14, 512)       2359808   \n",
      "_________________________________________________________________\n",
      "conv2d_12 (Conv2D)           (None, 14, 14, 512)       2359808   \n",
      "_________________________________________________________________\n",
      "conv2d_13 (Conv2D)           (None, 14, 14, 512)       2359808   \n",
      "_________________________________________________________________\n",
      "max_pooling2d_4 (MaxPooling2 (None, 7, 7, 512)         0         \n",
      "_________________________________________________________________\n",
      "flatten (Flatten)            (None, 25088)             0         \n",
      "_________________________________________________________________\n",
      "dense (Dense)                (None, 4096)              102764544 \n",
      "_________________________________________________________________\n",
      "dense_1 (Dense)              (None, 4096)              16781312  \n",
      "_________________________________________________________________\n",
      "dense_2 (Dense)              (None, 2)                 8194      \n",
      "=================================================================\n",
      "Total params: 134,305,666\n",
      "Trainable params: 134,305,666\n",
      "Non-trainable params: 0\n",
      "_________________________________________________________________\n"
     ]
    }
   ],
   "source": [
    "from tensorflow.keras.optimizers import Adam, SGD\n",
    "opt = Adam(learning_rate=0.00001)\n",
    "model.compile(optimizer=opt, loss=tf.keras.losses.sparse_categorical_crossentropy, metrics=['accuracy'])\n",
    "model.summary()"
   ]
  },
  {
   "cell_type": "code",
   "execution_count": null,
   "metadata": {},
   "outputs": [],
   "source": [
    "(2)(c)"
   ]
  },
  {
   "cell_type": "code",
   "execution_count": 7,
   "metadata": {},
   "outputs": [
    {
     "name": "stderr",
     "output_type": "stream",
     "text": [
      "/home/ricardo/.local/lib/python3.8/site-packages/tensorflow/python/keras/engine/training.py:1940: UserWarning: `Model.fit_generator` is deprecated and will be removed in a future version. Please use `Model.fit`, which supports generators.\n",
      "  warnings.warn('`Model.fit_generator` is deprecated and '\n"
     ]
    },
    {
     "name": "stdout",
     "output_type": "stream",
     "text": [
      "Epoch 1/10\n",
      "6/6 [==============================] - 126s 22s/step - loss: 0.8815 - accuracy: 0.5521 - val_loss: 0.7372 - val_accuracy: 0.3191\n",
      "Epoch 2/10\n",
      "6/6 [==============================] - 128s 22s/step - loss: 0.6748 - accuracy: 0.6198 - val_loss: 0.6080 - val_accuracy: 0.6809\n",
      "Epoch 3/10\n",
      "6/6 [==============================] - 155s 28s/step - loss: 0.6069 - accuracy: 0.6823 - val_loss: 0.5947 - val_accuracy: 0.6809\n",
      "Epoch 4/10\n",
      "6/6 [==============================] - 136s 23s/step - loss: 0.5960 - accuracy: 0.6875 - val_loss: 0.5732 - val_accuracy: 0.6809\n",
      "Epoch 5/10\n",
      "6/6 [==============================] - 132s 23s/step - loss: 0.6019 - accuracy: 0.6823 - val_loss: 0.5603 - val_accuracy: 0.7234\n",
      "Epoch 6/10\n",
      "6/6 [==============================] - 138s 23s/step - loss: 0.5849 - accuracy: 0.7031 - val_loss: 0.5406 - val_accuracy: 0.6809\n",
      "Epoch 7/10\n",
      "6/6 [==============================] - 138s 23s/step - loss: 0.6057 - accuracy: 0.6823 - val_loss: 0.5200 - val_accuracy: 0.7660\n",
      "Epoch 8/10\n",
      "6/6 [==============================] - 134s 22s/step - loss: 0.5717 - accuracy: 0.6927 - val_loss: 0.5020 - val_accuracy: 0.6809\n",
      "Epoch 9/10\n",
      "6/6 [==============================] - 138s 24s/step - loss: 0.5385 - accuracy: 0.7188 - val_loss: 0.4959 - val_accuracy: 0.8511\n",
      "Epoch 10/10\n",
      "6/6 [==============================] - 133s 22s/step - loss: 0.5308 - accuracy: 0.7552 - val_loss: 0.5031 - val_accuracy: 0.6809\n"
     ]
    },
    {
     "ename": "NameError",
     "evalue": "name 'test_df' is not defined",
     "output_type": "error",
     "traceback": [
      "\u001b[0;31m---------------------------------------------------------------------------\u001b[0m",
      "\u001b[0;31mNameError\u001b[0m                                 Traceback (most recent call last)",
      "\u001b[0;32m<ipython-input-7-b687e56844b5>\u001b[0m in \u001b[0;36m<module>\u001b[0;34m\u001b[0m\n\u001b[1;32m     10\u001b[0m \u001b[0;31m# Using the testing generator to evaluate the model after training\u001b[0m\u001b[0;34m\u001b[0m\u001b[0;34m\u001b[0m\u001b[0;34m\u001b[0m\u001b[0m\n\u001b[1;32m     11\u001b[0m \u001b[0mtest_augmenter\u001b[0m \u001b[0;34m=\u001b[0m \u001b[0mImageDataGenerator\u001b[0m\u001b[0;34m(\u001b[0m\u001b[0;34m**\u001b[0m\u001b[0mtest_augmentation_parameters\u001b[0m\u001b[0;34m)\u001b[0m\u001b[0;34m\u001b[0m\u001b[0;34m\u001b[0m\u001b[0m\n\u001b[0;32m---> 12\u001b[0;31m test_generator = DCMDataFrameIterator(dataframe=test_df,\n\u001b[0m\u001b[1;32m     13\u001b[0m                              \u001b[0mx_col\u001b[0m\u001b[0;34m=\u001b[0m\u001b[0;34m'image_path'\u001b[0m\u001b[0;34m,\u001b[0m\u001b[0;34m\u001b[0m\u001b[0;34m\u001b[0m\u001b[0m\n\u001b[1;32m     14\u001b[0m                              \u001b[0my_col\u001b[0m\u001b[0;34m=\u001b[0m\u001b[0;34m'target'\u001b[0m\u001b[0;34m,\u001b[0m\u001b[0;34m\u001b[0m\u001b[0;34m\u001b[0m\u001b[0m\n",
      "\u001b[0;31mNameError\u001b[0m: name 'test_df' is not defined"
     ]
    }
   ],
   "source": [
    "# training\n",
    "history = model.fit_generator(\n",
    "\tgenerator=train_generator,\n",
    "\tsteps_per_epoch=len(train_generator),\n",
    "\tepochs=EPOCHS,\n",
    "\tvalidation_data=valid_generator,\n",
    "\tvalidation_steps=len(valid_generator)\n",
    ")"
   ]
  },
  {
   "cell_type": "markdown",
   "metadata": {},
   "source": [
    "(2)(e)"
   ]
  },
  {
   "cell_type": "code",
   "execution_count": 13,
   "metadata": {},
   "outputs": [
    {
     "data": {
      "image/png": "[encoded data removed]",
      "text/plain": [
       "<Figure size 432x288 with 1 Axes>"
      ]
     },
     "metadata": {
      "needs_background": "light"
     },
     "output_type": "display_data"
    }
   ],
   "source": [
    "import matplotlib.pyplot as plot\n",
    "plot.plot(history.history[\"accuracy\"])\n",
    "plot.plot(history.history['val_accuracy'])\n",
    "plot.plot(history.history['loss'])\n",
    "plot.plot(history.history['val_loss'])\n",
    "plot.title(\"Accuracy & Loss vs EPOCH\")\n",
    "plot.ylabel(\"acc\")\n",
    "plot.xlabel(\"epoch\")\n",
    "plot.legend([\"acc\",\"val_acc\",\"loss\",\"val_loss\"])\n",
    "plot.show()"
   ]
  },
  {
   "cell_type": "code",
   "execution_count": null,
   "metadata": {},
   "outputs": [],
   "source": [
    "(2)(f)"
   ]
  },
  {
   "cell_type": "code",
   "execution_count": 14,
   "metadata": {},
   "outputs": [
    {
     "name": "stdout",
     "output_type": "stream",
     "text": [
      "Found 60 validated image filenames belonging to 2 classes.\n",
      "60/60 [==============================] - 8s 138ms/step - loss: 0.6328 - accuracy: 0.6167\n"
     ]
    }
   ],
   "source": [
    "# Using the testing generator to evaluate the model after training\n",
    "test_augmenter = ImageDataGenerator(**test_augmentation_parameters)\n",
    "test_generator = DCMDataFrameIterator(dataframe=test,\n",
    "                             x_col='image_path',\n",
    "                             y_col='target',\n",
    "                             image_data_generator=test_augmenter,\n",
    "                             **test_consts)\n",
    "test_loss, test_accuracy = model.evaluate(test_generator, steps=len(test_generator))"
   ]
  },
  {
   "cell_type": "code",
   "execution_count": 44,
   "metadata": {},
   "outputs": [
    {
     "name": "stdout",
     "output_type": "stream",
     "text": [
      "Prediction: \n",
      "Covid 0.70979595\n"
     ]
    },
    {
     "data": {
      "text/plain": [
       "<matplotlib.image.AxesImage at 0x7f0494f06970>"
      ]
     },
     "execution_count": 44,
     "metadata": {},
     "output_type": "execute_result"
    },
    {
     "data": {
      "image/png": "[encoded data removed]",
      "text/plain": [
       "<Figure size 432x288 with 1 Axes>"
      ]
     },
     "metadata": {
      "needs_background": "light"
     },
     "output_type": "display_data"
    }
   ],
   "source": [
    "x, y = test_generator.next()\n",
    "run = model.predict(np.expand_dims(x[0], axis=0))[0]\n",
    "print(\"Prediction: \")\n",
    "\n",
    "if run[0] > run[1]:\n",
    "    print(\"Covid \" + str(run[0]))\n",
    "else:\n",
    "    print(\"Normal\" + str(run[1]))\n",
    "\n",
    "plot.imshow(x[0])"
   ]
  },
  {
   "cell_type": "code",
   "execution_count": null,
   "metadata": {},
   "outputs": [],
   "source": []
  }
 ],
 "metadata": {
  "kernelspec": {
   "display_name": "Python 3",
   "language": "python",
   "name": "python3"
  },
  "language_info": {
   "codemirror_mode": {
    "name": "ipython",
    "version": 3
   },
   "file_extension": ".py",
   "mimetype": "text/x-python",
   "name": "python",
   "nbconvert_exporter": "python",
   "pygments_lexer": "ipython3",
   "version": "3.8.5"
  }
 },
 "nbformat": 4,
 "nbformat_minor": 4
}
